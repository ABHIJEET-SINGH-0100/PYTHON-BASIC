{
  "nbformat": 4,
  "nbformat_minor": 0,
  "metadata": {
    "colab": {
      "provenance": []
    },
    "kernelspec": {
      "name": "python3",
      "display_name": "Python 3"
    },
    "language_info": {
      "name": "python"
    }
  },
  "cells": [
    {
      "cell_type": "markdown",
      "source": [
        "1. practical based quetion & answer."
      ],
      "metadata": {
        "id": "_PiFFyqJWPPJ"
      }
    },
    {
      "cell_type": "code",
      "source": [
        "#1 -  Write a Python program to print \"Hello, World!y.\n",
        "\n",
        "#  answer\n",
        "\n",
        "print(\"Hello World\")"
      ],
      "metadata": {
        "colab": {
          "base_uri": "https://localhost:8080/"
        },
        "id": "G6eAwCpiWKDu",
        "outputId": "4b8587b2-13d5-4da5-9730-4e6a8ee245e8"
      },
      "execution_count": null,
      "outputs": [
        {
          "output_type": "stream",
          "name": "stdout",
          "text": [
            "Hello World\n"
          ]
        }
      ]
    },
    {
      "cell_type": "code",
      "source": [
        "#2 - Write a Python program that displays your name and age.\n",
        "# answer\n",
        "\n",
        "name = \"abhijeet singh\"\n",
        "age = \"26\"\n",
        "print(\"my name is {} and my age is {}\".format(name,age))\n"
      ],
      "metadata": {
        "colab": {
          "base_uri": "https://localhost:8080/"
        },
        "id": "lHougJH7WsD6",
        "outputId": "48487206-c9a1-402a-cb64-15672444b771"
      },
      "execution_count": null,
      "outputs": [
        {
          "output_type": "stream",
          "name": "stdout",
          "text": [
            "my name is abhijeet singh and my age is 29\n"
          ]
        }
      ]
    },
    {
      "cell_type": "code",
      "source": [
        "#3 - 8 Write code to print all the pre-defined keywords in Python using the keyword library\n",
        "\n",
        "# answer\n",
        "\n",
        "help(\"keywords\")\n"
      ],
      "metadata": {
        "colab": {
          "base_uri": "https://localhost:8080/"
        },
        "id": "Vg-o4s9eXNUy",
        "outputId": "0ed928a6-275a-4dd5-d10e-5a8dd262cd43"
      },
      "execution_count": null,
      "outputs": [
        {
          "output_type": "stream",
          "name": "stdout",
          "text": [
            "\n",
            "Here is a list of the Python keywords.  Enter any keyword to get more help.\n",
            "\n",
            "False               class               from                or\n",
            "None                continue            global              pass\n",
            "True                def                 if                  raise\n",
            "and                 del                 import              return\n",
            "as                  elif                in                  try\n",
            "assert              else                is                  while\n",
            "async               except              lambda              with\n",
            "await               finally             nonlocal            yield\n",
            "break               for                 not                 \n",
            "\n"
          ]
        }
      ]
    },
    {
      "cell_type": "code",
      "source": [
        "#4 - Write a program that checks if a given word is a Python keyword.\n",
        "\n",
        "# answer\n",
        "\n",
        "import keyword\n",
        "\n",
        "def is_python_keyword(word):\n",
        "    return keyword.iskeyword(word)\n",
        "\n",
        "# Get input from user\n",
        "user_input = input(\"Enter a word to check if it's a Python keyword: \")\n",
        "\n",
        "# Check and display result\n",
        "if is_python_keyword(user_input):\n",
        "    print(f\"'{user_input}' is a Python keyword.\")\n",
        "else:\n",
        "    print(f\"'{user_input}' is NOT a Python keyword.\")"
      ],
      "metadata": {
        "id": "tNttSxS_XiuJ",
        "colab": {
          "base_uri": "https://localhost:8080/"
        },
        "outputId": "70189725-f815-4cd5-cc41-9e50bb50f5ee"
      },
      "execution_count": 1,
      "outputs": [
        {
          "output_type": "stream",
          "name": "stdout",
          "text": [
            "Enter a word to check if it's a Python keyword: DHGG\n",
            "'DHGG' is NOT a Python keyword.\n"
          ]
        }
      ]
    },
    {
      "cell_type": "code",
      "source": [
        "#5 -  Write a program that performs basic arithmetic operations on two user-input numbers.\n",
        "\n",
        "# answer\n",
        "\n",
        "def main():\n",
        "    print(\"Basic Arithmetic Operations\")\n",
        "\n",
        "    # Get user input\n",
        "    try:\n",
        "        num1 = float(input(\"Enter the first number: \"))\n",
        "        num2 = float(input(\"Enter the second number: \"))\n",
        "    except ValueError:\n",
        "        print(\"Invalid input. Please enter numeric values.\")\n",
        "        return\n",
        "\n",
        "    # Perform operations\n",
        "    addition = num1 + num2\n",
        "    subtraction = num1 - num2\n",
        "    multiplication = num1 * num2\n",
        "\n",
        "    # Handle division carefully\n",
        "    try:\n",
        "        division = num1 / num2\n",
        "    except ZeroDivisionError:\n",
        "        division = \"Undefined (cannot divide by zero)\"\n",
        "\n",
        "    # Display results\n",
        "    print(f\"\\nResults:\")\n",
        "    print(f\"{num1} + {num2} = {addition}\")\n",
        "    print(f\"{num1} - {num2} = {subtraction}\")\n",
        "    print(f\"{num1} * {num2} = {multiplication}\")\n",
        "    print(f\"{num1} / {num2} = {division}\")\n",
        "\n",
        "if __name__ == \"__main__\":\n",
        "    main()\n",
        "\n"
      ],
      "metadata": {
        "id": "E05keS87e1zp",
        "colab": {
          "base_uri": "https://localhost:8080/"
        },
        "outputId": "1976f15a-37b2-41c5-b531-d06ce83e55da"
      },
      "execution_count": 3,
      "outputs": [
        {
          "output_type": "stream",
          "name": "stdout",
          "text": [
            "Basic Arithmetic Operations\n",
            "Enter the first number: 50\n",
            "Enter the second number: 60\n",
            "\n",
            "Results:\n",
            "50.0 + 60.0 = 110.0\n",
            "50.0 - 60.0 = -10.0\n",
            "50.0 * 60.0 = 3000.0\n",
            "50.0 / 60.0 = 0.8333333333333334\n"
          ]
        }
      ]
    },
    {
      "cell_type": "code",
      "source": [
        "#6 - . Write a program to demonstrate the use of logical operators.\n",
        "\n",
        "# answer\n",
        "\n",
        "def main():\n",
        "    print(\"Logical Operators Demonstration\\n\")\n",
        "\n",
        "    # Get user input\n",
        "    a = int(input(\"Enter the first number: \"))\n",
        "    b = int(input(\"Enter the second number: \"))\n",
        "\n",
        "    print(\"\\nChecking logical conditions:\")\n",
        "\n",
        "    # Logical AND\n",
        "    print(f\"Both numbers are positive: {a > 0 and b > 0}\")\n",
        "\n",
        "    # Logical OR\n",
        "    print(f\"At least one number is positive: {a > 0 or b > 0}\")\n",
        "\n",
        "    # Logical NOT\n",
        "    print(f\"The first number is NOT positive: {not a > 0}\")\n",
        "\n",
        "if __name__ == \"__main__\":\n",
        "    main()\n"
      ],
      "metadata": {
        "colab": {
          "base_uri": "https://localhost:8080/"
        },
        "id": "v-X6k3l6jHIT",
        "outputId": "6035c91a-cc7c-41c3-d9cc-fca871b5e548"
      },
      "execution_count": 5,
      "outputs": [
        {
          "output_type": "stream",
          "name": "stdout",
          "text": [
            "Logical Operators Demonstration\n",
            "\n",
            "Enter the first number: 50\n",
            "Enter the second number: 50\n",
            "\n",
            "Checking logical conditions:\n",
            "Both numbers are positive: True\n",
            "At least one number is positive: True\n",
            "The first number is NOT positive: False\n"
          ]
        }
      ]
    },
    {
      "cell_type": "code",
      "source": [
        "#7 -  Write a Python program to convert user input from string to integer, float, and boolean types\n",
        "\n",
        "# answer\n",
        "\n",
        "def main():\n",
        "    print(\"Data Type Conversion in Python\\n\")\n",
        "\n",
        "    # Get user input as a string\n",
        "    user_input = input(\"Enter a value: \")\n",
        "\n",
        "    # Convert to integer\n",
        "    try:\n",
        "        int_value = int(user_input)\n",
        "        print(f\"Integer conversion successful: {int_value}\")\n",
        "    except ValueError:\n",
        "        print(\"Integer conversion failed: Not a valid integer.\")\n",
        "\n",
        "    # Convert to float\n",
        "    try:\n",
        "        float_value = float(user_input)\n",
        "        print(f\"Float conversion successful: {float_value}\")\n",
        "    except ValueError:\n",
        "        print(\"Float conversion failed: Not a valid float.\")\n",
        "\n",
        "    # Convert to boolean\n",
        "    # Any non-empty string except \"0\", \"false\", \"False\" is considered True\n",
        "    bool_value = user_input.strip().lower() not in [\"false\", \"0\", \"\", \"none\"]\n",
        "    print(f\"Boolean conversion result: {bool_value}\")\n",
        "\n",
        "if __name__ == \"__main__\":\n",
        "    main()\n"
      ],
      "metadata": {
        "colab": {
          "base_uri": "https://localhost:8080/"
        },
        "id": "Bp8b4O1Xjqlk",
        "outputId": "699bd382-4734-4cd7-98fb-7f9b5a113bf5"
      },
      "execution_count": 7,
      "outputs": [
        {
          "output_type": "stream",
          "name": "stdout",
          "text": [
            "Data Type Conversion in Python\n",
            "\n",
            "Enter a value: 552\n",
            "Integer conversion successful: 552\n",
            "Float conversion successful: 552.0\n",
            "Boolean conversion result: True\n"
          ]
        }
      ]
    },
    {
      "cell_type": "code",
      "source": [
        "#8 - Write code to demonstrate type casting with list elements\n",
        "\n",
        "# answer\n",
        "\n",
        "def main():\n",
        "    print(\"Type Casting List Elements in Python\\n\")\n",
        "\n",
        "    # Sample list of strings\n",
        "    str_list = [\"10\", \"20\", \"30\", \"0\", \"True\", \"False\", \"\"]\n",
        "\n",
        "    print(f\"Original list (strings): {str_list}\")\n",
        "\n",
        "    # Convert to integers (will skip non-numeric strings)\n",
        "    int_list = []\n",
        "    for item in str_list:\n",
        "        try:\n",
        "            int_list.append(int(item))\n",
        "        except ValueError:\n",
        "            int_list.append(None)  # Use None for non-convertible items\n",
        "    print(f\"Converted to integers:   {int_list}\")\n",
        "\n",
        "    # Convert to floats\n",
        "    float_list = []\n",
        "    for item in str_list:\n",
        "        try:\n",
        "            float_list.append(float(item))\n",
        "        except ValueError:\n",
        "            float_list.append(None)\n",
        "    print(f\"Converted to floats:     {float_list}\")\n",
        "\n",
        "    # Convert to booleans\n",
        "    bool_list = [item.strip().lower() not in [\"false\", \"0\", \"\", \"none\"] for item in str_list]\n",
        "    print(f\"Converted to booleans:   {bool_list}\")\n",
        "\n",
        "if __name__ == \"__main__\":\n",
        "    main()\n"
      ],
      "metadata": {
        "colab": {
          "base_uri": "https://localhost:8080/"
        },
        "id": "m5BAPAbIlJzU",
        "outputId": "5356ed34-a3ac-43bd-dccd-c436ac37f73a"
      },
      "execution_count": 9,
      "outputs": [
        {
          "output_type": "stream",
          "name": "stdout",
          "text": [
            "Type Casting List Elements in Python\n",
            "\n",
            "Original list (strings): ['10', '20', '30', '0', 'True', 'False', '']\n",
            "Converted to integers:   [10, 20, 30, 0, None, None, None]\n",
            "Converted to floats:     [10.0, 20.0, 30.0, 0.0, None, None, None]\n",
            "Converted to booleans:   [True, True, True, False, True, False, False]\n"
          ]
        }
      ]
    },
    {
      "cell_type": "code",
      "source": [
        "#9 - Write a for loop to print numbers from 1 to 10.\n",
        "\n",
        "# answer\n",
        "\n",
        "for i in range(1, 11):\n",
        "  print(i)\n",
        "\n"
      ],
      "metadata": {
        "colab": {
          "base_uri": "https://localhost:8080/"
        },
        "id": "6N6Ffbb7mCIG",
        "outputId": "657109c3-3448-4fb6-f40d-0085b1b1b6ab"
      },
      "execution_count": 17,
      "outputs": [
        {
          "output_type": "stream",
          "name": "stdout",
          "text": [
            "1\n",
            "2\n",
            "3\n",
            "4\n",
            "5\n",
            "6\n",
            "7\n",
            "8\n",
            "9\n",
            "10\n"
          ]
        }
      ]
    },
    {
      "cell_type": "code",
      "source": [
        "#10 -  Write a Python program to find the sum of all even numbers between 1 and 50.\n",
        "\n",
        "# answer\n",
        "\n",
        "def main():\n",
        "    total_sum = 0\n",
        "    for num in range(2, 51, 2):  # Start at 2, go up to 50, step by 2 (even numbers)\n",
        "        total_sum += num\n",
        "    print(f\"The sum of all even numbers between 1 and 50 is: {total_sum}\")\n",
        "\n",
        "if __name__ == \"__main__\":\n",
        "    main()\n"
      ],
      "metadata": {
        "colab": {
          "base_uri": "https://localhost:8080/"
        },
        "id": "eBfgYl7bnGXY",
        "outputId": "18627b2e-d83c-411a-9df6-f5ed3bcf240d"
      },
      "execution_count": 19,
      "outputs": [
        {
          "output_type": "stream",
          "name": "stdout",
          "text": [
            "The sum of all even numbers between 1 and 50 is: 650\n"
          ]
        }
      ]
    },
    {
      "cell_type": "code",
      "source": [
        "#11 - Create a list and tuple in Python, and demonstrate how attempting to change an element works differently\n",
        "#for each.\n",
        "\n",
        "#12 -Write a function to demonstrate the behavior of mutable and immutable arguments\n",
        "\n",
        "#13 -  Write a Python program to calculate the factorial of a number provided by the user using a while loop.\n",
        "\n",
        "\n",
        "# not attemted\n",
        "\n",
        "\n",
        "\n"
      ],
      "metadata": {
        "id": "T8z4v25SqYoe"
      },
      "execution_count": 20,
      "outputs": []
    },
    {
      "cell_type": "code",
      "source": [
        "#14 -  Write a program to reverse a string using a while loop.\n",
        "\n",
        "# answer\n",
        "\n",
        "def reverse_string(s):\n",
        "    reversed_str = \"\"\n",
        "    index = len(s) - 1  # Start from the last character\n",
        "\n",
        "    while index >= 0:\n",
        "        reversed_str += s[index]\n",
        "        index -= 1\n",
        "\n",
        "    return reversed_str\n",
        "\n",
        "def main():\n",
        "    user_input = input(\"Enter a string to reverse: \")\n",
        "    result = reverse_string(user_input)\n",
        "    print(f\"Reversed string: {result}\")\n",
        "\n",
        "if __name__ == \"__main__\":\n",
        "    main()\n"
      ],
      "metadata": {
        "colab": {
          "base_uri": "https://localhost:8080/"
        },
        "id": "feyjE6E6rZ9q",
        "outputId": "0d2c6881-7a5b-4506-8589-3a905c5716ad"
      },
      "execution_count": 21,
      "outputs": [
        {
          "output_type": "stream",
          "name": "stdout",
          "text": [
            "Enter a string to reverse: 42145\n",
            "Reversed string: 54124\n"
          ]
        }
      ]
    }
  ]
}